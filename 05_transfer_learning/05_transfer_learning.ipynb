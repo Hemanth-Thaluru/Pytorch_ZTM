{
 "cells": [
  {
   "cell_type": "code",
   "execution_count": 23,
   "id": "81aa3cbc",
   "metadata": {},
   "outputs": [],
   "source": [
    "#| default_exp 05_transfer_learning"
   ]
  },
  {
   "cell_type": "code",
   "execution_count": 1,
   "id": "5bc53621",
   "metadata": {},
   "outputs": [
    {
     "name": "stdout",
     "output_type": "stream",
     "text": [
      "2.0.1\n",
      "0.15.2\n"
     ]
    }
   ],
   "source": [
    "import torch,torchvision\n",
    "print(torch.__version__)\n",
    "print(torchvision.__version__)"
   ]
  },
  {
   "cell_type": "code",
   "execution_count": 5,
   "id": "face19c6",
   "metadata": {},
   "outputs": [
    {
     "name": "stdout",
     "output_type": "stream",
     "text": [
      "[INFO] Couldn't find going_modular scripts... downloading them from GitHub.\n",
      "Cloning into 'pytorch-deep-learning'...\n",
      "remote: Enumerating objects: 3842, done.\u001b[K\n",
      "remote: Counting objects: 100% (485/485), done.\u001b[K\n",
      "remote: Compressing objects: 100% (272/272), done.\u001b[K\n",
      "remote: Total 3842 (delta 252), reused 404 (delta 206), pack-reused 3357\u001b[K\n",
      "Receiving objects: 100% (3842/3842), 650.36 MiB | 30.17 MiB/s, done.\n",
      "Resolving deltas: 100% (2208/2208), done.\n",
      "Updating files: 100% (248/248), done.\n"
     ]
    }
   ],
   "source": [
    "try:\n",
    "    from going_modular.going_modular import data_setup, engine\n",
    "except:\n",
    "    # Get the going_modular scripts\n",
    "    print(\"[INFO] Couldn't find going_modular scripts... downloading them from GitHub.\")\n",
    "    !git clone https://github.com/mrdbourke/pytorch-deep-learning\n",
    "    !mv pytorch-deep-learning/going_modular .\n",
    "    !rm -rf pytorch-deep-learning\n",
    "    from going_modular.going_modular import data_setup, engine"
   ]
  },
  {
   "cell_type": "code",
   "execution_count": 33,
   "id": "92b23c9f",
   "metadata": {},
   "outputs": [],
   "source": [
    "#| export\n",
    "import zipfile,requests,os\n",
    "from pathlib import Path\n",
    "\n",
    "def download_blob_git(url:str,file_name:str):\n",
    "    \"\"\"Downloads the blob or zip file from github rawlink. Only if file doesn't exist, if not simply exists.\n",
    "\n",
    "    Args:\n",
    "    url: Raw link need to be given, should have raw word in the link,rightclick raw option on github and copy link address.\n",
    "    file_name: A name to be stored for that files in data folder should be same as github name\n",
    "\n",
    "    Returns:\n",
    "    None, Unzips the file and removes the zipped file. \n",
    "    \"\"\"\n",
    "    fpath=file_name\n",
    "    image_path=Path(f'data/{fpath}')\n",
    "    print(image_path)\n",
    "    if image_path.is_file():\n",
    "        print('Already exists skipping download')\n",
    "    else:\n",
    "        print('File doesnot exist downloading it')\n",
    "        image_path.mkdir(parents=True,exist_ok=True)\n",
    "\n",
    "        with open(f'data/{fpath}.zip','wb') as f:\n",
    "            request=requests.get(url)\n",
    "            print('Downloading the file')\n",
    "            f.write(request.content)\n",
    "        with zipfile.ZipFile(f'data/{fpath}.zip','r') as z:\n",
    "            print('Unzipping the files')\n",
    "            z.extractall(image_path)\n",
    "        os.remove(f'data/{fpath}.zip')"
   ]
  },
  {
   "cell_type": "code",
   "execution_count": 34,
   "id": "231117d6",
   "metadata": {},
   "outputs": [
    {
     "name": "stdout",
     "output_type": "stream",
     "text": [
      "data/pizza_steak_sushi\n",
      "File doesnot exist downloading it\n",
      "Downloading the file\n",
      "Unzipping the files\n"
     ]
    }
   ],
   "source": [
    "download_blob_git('https://github.com/mrdbourke/pytorch-deep-learning/raw/main/data/pizza_steak_sushi.zip',\"pizza_steak_sushi\")"
   ]
  },
  {
   "cell_type": "code",
   "execution_count": 2,
   "id": "847b2e09",
   "metadata": {},
   "outputs": [],
   "source": [
    "from torchvision import transforms\n",
    "normalize = transforms.Normalize(mean=[0.485, 0.456, 0.406],\n",
    "                                 std=[0.229, 0.224, 0.225])\n",
    "manual_transforms=transforms.Compose([\n",
    "                                        transforms.Resize((224,224)),\n",
    "                                        transforms.ToTensor(),\n",
    "                                        normalize\n",
    "                                    ])"
   ]
  },
  {
   "cell_type": "code",
   "execution_count": 41,
   "id": "912236b5",
   "metadata": {},
   "outputs": [],
   "source": [
    "from pathlib import Path\n",
    "train_dir = Path('data/pizza_steak_sushi/train')\n",
    "test_dir = Path('data/pizza_steak_sushi/test')"
   ]
  },
  {
   "cell_type": "code",
   "execution_count": 42,
   "id": "7f766641",
   "metadata": {},
   "outputs": [
    {
     "data": {
      "text/plain": [
       "PosixPath('data/pizza_steak_sushi/test')"
      ]
     },
     "execution_count": 42,
     "metadata": {},
     "output_type": "execute_result"
    }
   ],
   "source": [
    "test_dir"
   ]
  },
  {
   "cell_type": "code",
   "execution_count": 43,
   "id": "76269164",
   "metadata": {},
   "outputs": [
    {
     "data": {
      "text/plain": [
       "(<torch.utils.data.dataloader.DataLoader at 0x1346aaac0>,\n",
       " ['pizza', 'steak', 'sushi'])"
      ]
     },
     "execution_count": 43,
     "metadata": {},
     "output_type": "execute_result"
    }
   ],
   "source": [
    "from going_modular.going_modular import data_setup\n",
    "train_dataloader, test_dataloader, class_names = data_setup.create_dataloaders(train_dir=train_dir,\n",
    "                           test_dir=test_dir,\n",
    "                           transform=manual_transforms,\n",
    "                           batch_size=32,\n",
    "                           num_workers=4)\n",
    "train_dataloader,class_names"
   ]
  },
  {
   "cell_type": "code",
   "execution_count": 50,
   "id": "af2266eb",
   "metadata": {},
   "outputs": [
    {
     "name": "stdout",
     "output_type": "stream",
     "text": [
      "torch.Size([32])\n",
      "0\n"
     ]
    }
   ],
   "source": [
    "for (x,y) in (train_dataloader):\n",
    "    print(y.shape)\n",
    "    break"
   ]
  },
  {
   "cell_type": "code",
   "execution_count": 53,
   "id": "0b6e37db",
   "metadata": {},
   "outputs": [
    {
     "data": {
      "text/plain": [
       "EfficientNet_B0_Weights.IMAGENET1K_V1"
      ]
     },
     "execution_count": 53,
     "metadata": {},
     "output_type": "execute_result"
    }
   ],
   "source": [
    "model_weights=torchvision.models.EfficientNet_B0_Weights.DEFAULT\n",
    "model_weights"
   ]
  },
  {
   "cell_type": "code",
   "execution_count": 55,
   "id": "9399be75",
   "metadata": {},
   "outputs": [
    {
     "data": {
      "text/plain": [
       "ImageClassification(\n",
       "    crop_size=[224]\n",
       "    resize_size=[256]\n",
       "    mean=[0.485, 0.456, 0.406]\n",
       "    std=[0.229, 0.224, 0.225]\n",
       "    interpolation=InterpolationMode.BICUBIC\n",
       ")"
      ]
     },
     "execution_count": 55,
     "metadata": {},
     "output_type": "execute_result"
    }
   ],
   "source": [
    "auto_transform=model_weights.transforms()\n",
    "auto_transform"
   ]
  },
  {
   "cell_type": "code",
   "execution_count": 56,
   "id": "24f9f6e9",
   "metadata": {},
   "outputs": [
    {
     "data": {
      "text/plain": [
       "(<torch.utils.data.dataloader.DataLoader at 0x1360713a0>,\n",
       " ['pizza', 'steak', 'sushi'])"
      ]
     },
     "execution_count": 56,
     "metadata": {},
     "output_type": "execute_result"
    }
   ],
   "source": [
    "from going_modular.going_modular import data_setup\n",
    "train_dataloader, test_dataloader, class_names = data_setup.create_dataloaders(train_dir=train_dir,\n",
    "                           test_dir=test_dir,\n",
    "                           transform=auto_transform,\n",
    "                           batch_size=32,\n",
    "                           num_workers=4)\n",
    "train_dataloader,class_names"
   ]
  },
  {
   "cell_type": "code",
   "execution_count": 58,
   "id": "5ac4eb96",
   "metadata": {},
   "outputs": [],
   "source": [
    "# Ways to get pre-trained models\n",
    "#     1. pytorch library\n",
    "#     2.timm torch image library\n",
    "#     3.Hugging face\n",
    "#     4.Paperswithcode\n",
    "\n",
    "# To consider\n",
    "#     1. Speed\n",
    "#     2.Size\n",
    "#     3.Performance\n",
    "    "
   ]
  },
  {
   "cell_type": "code",
   "execution_count": 59,
   "id": "d5009e7d",
   "metadata": {},
   "outputs": [
    {
     "name": "stderr",
     "output_type": "stream",
     "text": [
      "Downloading: \"https://download.pytorch.org/models/efficientnet_b0_rwightman-3dd342df.pth\" to /Users/hemanththaluru/.cache/torch/hub/checkpoints/efficientnet_b0_rwightman-3dd342df.pth\n",
      "100%|██████████████████████████████████| 20.5M/20.5M [00:00<00:00, 27.6MB/s]\n"
     ]
    },
    {
     "data": {
      "text/plain": [
       "EfficientNet(\n",
       "  (features): Sequential(\n",
       "    (0): Conv2dNormActivation(\n",
       "      (0): Conv2d(3, 32, kernel_size=(3, 3), stride=(2, 2), padding=(1, 1), bias=False)\n",
       "      (1): BatchNorm2d(32, eps=1e-05, momentum=0.1, affine=True, track_running_stats=True)\n",
       "      (2): SiLU(inplace=True)\n",
       "    )\n",
       "    (1): Sequential(\n",
       "      (0): MBConv(\n",
       "        (block): Sequential(\n",
       "          (0): Conv2dNormActivation(\n",
       "            (0): Conv2d(32, 32, kernel_size=(3, 3), stride=(1, 1), padding=(1, 1), groups=32, bias=False)\n",
       "            (1): BatchNorm2d(32, eps=1e-05, momentum=0.1, affine=True, track_running_stats=True)\n",
       "            (2): SiLU(inplace=True)\n",
       "          )\n",
       "          (1): SqueezeExcitation(\n",
       "            (avgpool): AdaptiveAvgPool2d(output_size=1)\n",
       "            (fc1): Conv2d(32, 8, kernel_size=(1, 1), stride=(1, 1))\n",
       "            (fc2): Conv2d(8, 32, kernel_size=(1, 1), stride=(1, 1))\n",
       "            (activation): SiLU(inplace=True)\n",
       "            (scale_activation): Sigmoid()\n",
       "          )\n",
       "          (2): Conv2dNormActivation(\n",
       "            (0): Conv2d(32, 16, kernel_size=(1, 1), stride=(1, 1), bias=False)\n",
       "            (1): BatchNorm2d(16, eps=1e-05, momentum=0.1, affine=True, track_running_stats=True)\n",
       "          )\n",
       "        )\n",
       "        (stochastic_depth): StochasticDepth(p=0.0, mode=row)\n",
       "      )\n",
       "    )\n",
       "    (2): Sequential(\n",
       "      (0): MBConv(\n",
       "        (block): Sequential(\n",
       "          (0): Conv2dNormActivation(\n",
       "            (0): Conv2d(16, 96, kernel_size=(1, 1), stride=(1, 1), bias=False)\n",
       "            (1): BatchNorm2d(96, eps=1e-05, momentum=0.1, affine=True, track_running_stats=True)\n",
       "            (2): SiLU(inplace=True)\n",
       "          )\n",
       "          (1): Conv2dNormActivation(\n",
       "            (0): Conv2d(96, 96, kernel_size=(3, 3), stride=(2, 2), padding=(1, 1), groups=96, bias=False)\n",
       "            (1): BatchNorm2d(96, eps=1e-05, momentum=0.1, affine=True, track_running_stats=True)\n",
       "            (2): SiLU(inplace=True)\n",
       "          )\n",
       "          (2): SqueezeExcitation(\n",
       "            (avgpool): AdaptiveAvgPool2d(output_size=1)\n",
       "            (fc1): Conv2d(96, 4, kernel_size=(1, 1), stride=(1, 1))\n",
       "            (fc2): Conv2d(4, 96, kernel_size=(1, 1), stride=(1, 1))\n",
       "            (activation): SiLU(inplace=True)\n",
       "            (scale_activation): Sigmoid()\n",
       "          )\n",
       "          (3): Conv2dNormActivation(\n",
       "            (0): Conv2d(96, 24, kernel_size=(1, 1), stride=(1, 1), bias=False)\n",
       "            (1): BatchNorm2d(24, eps=1e-05, momentum=0.1, affine=True, track_running_stats=True)\n",
       "          )\n",
       "        )\n",
       "        (stochastic_depth): StochasticDepth(p=0.0125, mode=row)\n",
       "      )\n",
       "      (1): MBConv(\n",
       "        (block): Sequential(\n",
       "          (0): Conv2dNormActivation(\n",
       "            (0): Conv2d(24, 144, kernel_size=(1, 1), stride=(1, 1), bias=False)\n",
       "            (1): BatchNorm2d(144, eps=1e-05, momentum=0.1, affine=True, track_running_stats=True)\n",
       "            (2): SiLU(inplace=True)\n",
       "          )\n",
       "          (1): Conv2dNormActivation(\n",
       "            (0): Conv2d(144, 144, kernel_size=(3, 3), stride=(1, 1), padding=(1, 1), groups=144, bias=False)\n",
       "            (1): BatchNorm2d(144, eps=1e-05, momentum=0.1, affine=True, track_running_stats=True)\n",
       "            (2): SiLU(inplace=True)\n",
       "          )\n",
       "          (2): SqueezeExcitation(\n",
       "            (avgpool): AdaptiveAvgPool2d(output_size=1)\n",
       "            (fc1): Conv2d(144, 6, kernel_size=(1, 1), stride=(1, 1))\n",
       "            (fc2): Conv2d(6, 144, kernel_size=(1, 1), stride=(1, 1))\n",
       "            (activation): SiLU(inplace=True)\n",
       "            (scale_activation): Sigmoid()\n",
       "          )\n",
       "          (3): Conv2dNormActivation(\n",
       "            (0): Conv2d(144, 24, kernel_size=(1, 1), stride=(1, 1), bias=False)\n",
       "            (1): BatchNorm2d(24, eps=1e-05, momentum=0.1, affine=True, track_running_stats=True)\n",
       "          )\n",
       "        )\n",
       "        (stochastic_depth): StochasticDepth(p=0.025, mode=row)\n",
       "      )\n",
       "    )\n",
       "    (3): Sequential(\n",
       "      (0): MBConv(\n",
       "        (block): Sequential(\n",
       "          (0): Conv2dNormActivation(\n",
       "            (0): Conv2d(24, 144, kernel_size=(1, 1), stride=(1, 1), bias=False)\n",
       "            (1): BatchNorm2d(144, eps=1e-05, momentum=0.1, affine=True, track_running_stats=True)\n",
       "            (2): SiLU(inplace=True)\n",
       "          )\n",
       "          (1): Conv2dNormActivation(\n",
       "            (0): Conv2d(144, 144, kernel_size=(5, 5), stride=(2, 2), padding=(2, 2), groups=144, bias=False)\n",
       "            (1): BatchNorm2d(144, eps=1e-05, momentum=0.1, affine=True, track_running_stats=True)\n",
       "            (2): SiLU(inplace=True)\n",
       "          )\n",
       "          (2): SqueezeExcitation(\n",
       "            (avgpool): AdaptiveAvgPool2d(output_size=1)\n",
       "            (fc1): Conv2d(144, 6, kernel_size=(1, 1), stride=(1, 1))\n",
       "            (fc2): Conv2d(6, 144, kernel_size=(1, 1), stride=(1, 1))\n",
       "            (activation): SiLU(inplace=True)\n",
       "            (scale_activation): Sigmoid()\n",
       "          )\n",
       "          (3): Conv2dNormActivation(\n",
       "            (0): Conv2d(144, 40, kernel_size=(1, 1), stride=(1, 1), bias=False)\n",
       "            (1): BatchNorm2d(40, eps=1e-05, momentum=0.1, affine=True, track_running_stats=True)\n",
       "          )\n",
       "        )\n",
       "        (stochastic_depth): StochasticDepth(p=0.037500000000000006, mode=row)\n",
       "      )\n",
       "      (1): MBConv(\n",
       "        (block): Sequential(\n",
       "          (0): Conv2dNormActivation(\n",
       "            (0): Conv2d(40, 240, kernel_size=(1, 1), stride=(1, 1), bias=False)\n",
       "            (1): BatchNorm2d(240, eps=1e-05, momentum=0.1, affine=True, track_running_stats=True)\n",
       "            (2): SiLU(inplace=True)\n",
       "          )\n",
       "          (1): Conv2dNormActivation(\n",
       "            (0): Conv2d(240, 240, kernel_size=(5, 5), stride=(1, 1), padding=(2, 2), groups=240, bias=False)\n",
       "            (1): BatchNorm2d(240, eps=1e-05, momentum=0.1, affine=True, track_running_stats=True)\n",
       "            (2): SiLU(inplace=True)\n",
       "          )\n",
       "          (2): SqueezeExcitation(\n",
       "            (avgpool): AdaptiveAvgPool2d(output_size=1)\n",
       "            (fc1): Conv2d(240, 10, kernel_size=(1, 1), stride=(1, 1))\n",
       "            (fc2): Conv2d(10, 240, kernel_size=(1, 1), stride=(1, 1))\n",
       "            (activation): SiLU(inplace=True)\n",
       "            (scale_activation): Sigmoid()\n",
       "          )\n",
       "          (3): Conv2dNormActivation(\n",
       "            (0): Conv2d(240, 40, kernel_size=(1, 1), stride=(1, 1), bias=False)\n",
       "            (1): BatchNorm2d(40, eps=1e-05, momentum=0.1, affine=True, track_running_stats=True)\n",
       "          )\n",
       "        )\n",
       "        (stochastic_depth): StochasticDepth(p=0.05, mode=row)\n",
       "      )\n",
       "    )\n",
       "    (4): Sequential(\n",
       "      (0): MBConv(\n",
       "        (block): Sequential(\n",
       "          (0): Conv2dNormActivation(\n",
       "            (0): Conv2d(40, 240, kernel_size=(1, 1), stride=(1, 1), bias=False)\n",
       "            (1): BatchNorm2d(240, eps=1e-05, momentum=0.1, affine=True, track_running_stats=True)\n",
       "            (2): SiLU(inplace=True)\n",
       "          )\n",
       "          (1): Conv2dNormActivation(\n",
       "            (0): Conv2d(240, 240, kernel_size=(3, 3), stride=(2, 2), padding=(1, 1), groups=240, bias=False)\n",
       "            (1): BatchNorm2d(240, eps=1e-05, momentum=0.1, affine=True, track_running_stats=True)\n",
       "            (2): SiLU(inplace=True)\n",
       "          )\n",
       "          (2): SqueezeExcitation(\n",
       "            (avgpool): AdaptiveAvgPool2d(output_size=1)\n",
       "            (fc1): Conv2d(240, 10, kernel_size=(1, 1), stride=(1, 1))\n",
       "            (fc2): Conv2d(10, 240, kernel_size=(1, 1), stride=(1, 1))\n",
       "            (activation): SiLU(inplace=True)\n",
       "            (scale_activation): Sigmoid()\n",
       "          )\n",
       "          (3): Conv2dNormActivation(\n",
       "            (0): Conv2d(240, 80, kernel_size=(1, 1), stride=(1, 1), bias=False)\n",
       "            (1): BatchNorm2d(80, eps=1e-05, momentum=0.1, affine=True, track_running_stats=True)\n",
       "          )\n",
       "        )\n",
       "        (stochastic_depth): StochasticDepth(p=0.0625, mode=row)\n",
       "      )\n",
       "      (1): MBConv(\n",
       "        (block): Sequential(\n",
       "          (0): Conv2dNormActivation(\n",
       "            (0): Conv2d(80, 480, kernel_size=(1, 1), stride=(1, 1), bias=False)\n",
       "            (1): BatchNorm2d(480, eps=1e-05, momentum=0.1, affine=True, track_running_stats=True)\n",
       "            (2): SiLU(inplace=True)\n",
       "          )\n",
       "          (1): Conv2dNormActivation(\n",
       "            (0): Conv2d(480, 480, kernel_size=(3, 3), stride=(1, 1), padding=(1, 1), groups=480, bias=False)\n",
       "            (1): BatchNorm2d(480, eps=1e-05, momentum=0.1, affine=True, track_running_stats=True)\n",
       "            (2): SiLU(inplace=True)\n",
       "          )\n",
       "          (2): SqueezeExcitation(\n",
       "            (avgpool): AdaptiveAvgPool2d(output_size=1)\n",
       "            (fc1): Conv2d(480, 20, kernel_size=(1, 1), stride=(1, 1))\n",
       "            (fc2): Conv2d(20, 480, kernel_size=(1, 1), stride=(1, 1))\n",
       "            (activation): SiLU(inplace=True)\n",
       "            (scale_activation): Sigmoid()\n",
       "          )\n",
       "          (3): Conv2dNormActivation(\n",
       "            (0): Conv2d(480, 80, kernel_size=(1, 1), stride=(1, 1), bias=False)\n",
       "            (1): BatchNorm2d(80, eps=1e-05, momentum=0.1, affine=True, track_running_stats=True)\n",
       "          )\n",
       "        )\n",
       "        (stochastic_depth): StochasticDepth(p=0.07500000000000001, mode=row)\n",
       "      )\n",
       "      (2): MBConv(\n",
       "        (block): Sequential(\n",
       "          (0): Conv2dNormActivation(\n",
       "            (0): Conv2d(80, 480, kernel_size=(1, 1), stride=(1, 1), bias=False)\n",
       "            (1): BatchNorm2d(480, eps=1e-05, momentum=0.1, affine=True, track_running_stats=True)\n",
       "            (2): SiLU(inplace=True)\n",
       "          )\n",
       "          (1): Conv2dNormActivation(\n",
       "            (0): Conv2d(480, 480, kernel_size=(3, 3), stride=(1, 1), padding=(1, 1), groups=480, bias=False)\n",
       "            (1): BatchNorm2d(480, eps=1e-05, momentum=0.1, affine=True, track_running_stats=True)\n",
       "            (2): SiLU(inplace=True)\n",
       "          )\n",
       "          (2): SqueezeExcitation(\n",
       "            (avgpool): AdaptiveAvgPool2d(output_size=1)\n",
       "            (fc1): Conv2d(480, 20, kernel_size=(1, 1), stride=(1, 1))\n",
       "            (fc2): Conv2d(20, 480, kernel_size=(1, 1), stride=(1, 1))\n",
       "            (activation): SiLU(inplace=True)\n",
       "            (scale_activation): Sigmoid()\n",
       "          )\n",
       "          (3): Conv2dNormActivation(\n",
       "            (0): Conv2d(480, 80, kernel_size=(1, 1), stride=(1, 1), bias=False)\n",
       "            (1): BatchNorm2d(80, eps=1e-05, momentum=0.1, affine=True, track_running_stats=True)\n",
       "          )\n",
       "        )\n",
       "        (stochastic_depth): StochasticDepth(p=0.08750000000000001, mode=row)\n",
       "      )\n",
       "    )\n",
       "    (5): Sequential(\n",
       "      (0): MBConv(\n",
       "        (block): Sequential(\n",
       "          (0): Conv2dNormActivation(\n",
       "            (0): Conv2d(80, 480, kernel_size=(1, 1), stride=(1, 1), bias=False)\n",
       "            (1): BatchNorm2d(480, eps=1e-05, momentum=0.1, affine=True, track_running_stats=True)\n",
       "            (2): SiLU(inplace=True)\n",
       "          )\n",
       "          (1): Conv2dNormActivation(\n",
       "            (0): Conv2d(480, 480, kernel_size=(5, 5), stride=(1, 1), padding=(2, 2), groups=480, bias=False)\n",
       "            (1): BatchNorm2d(480, eps=1e-05, momentum=0.1, affine=True, track_running_stats=True)\n",
       "            (2): SiLU(inplace=True)\n",
       "          )\n",
       "          (2): SqueezeExcitation(\n",
       "            (avgpool): AdaptiveAvgPool2d(output_size=1)\n",
       "            (fc1): Conv2d(480, 20, kernel_size=(1, 1), stride=(1, 1))\n",
       "            (fc2): Conv2d(20, 480, kernel_size=(1, 1), stride=(1, 1))\n",
       "            (activation): SiLU(inplace=True)\n",
       "            (scale_activation): Sigmoid()\n",
       "          )\n",
       "          (3): Conv2dNormActivation(\n",
       "            (0): Conv2d(480, 112, kernel_size=(1, 1), stride=(1, 1), bias=False)\n",
       "            (1): BatchNorm2d(112, eps=1e-05, momentum=0.1, affine=True, track_running_stats=True)\n",
       "          )\n",
       "        )\n",
       "        (stochastic_depth): StochasticDepth(p=0.1, mode=row)\n",
       "      )\n",
       "      (1): MBConv(\n",
       "        (block): Sequential(\n",
       "          (0): Conv2dNormActivation(\n",
       "            (0): Conv2d(112, 672, kernel_size=(1, 1), stride=(1, 1), bias=False)\n",
       "            (1): BatchNorm2d(672, eps=1e-05, momentum=0.1, affine=True, track_running_stats=True)\n",
       "            (2): SiLU(inplace=True)\n",
       "          )\n",
       "          (1): Conv2dNormActivation(\n",
       "            (0): Conv2d(672, 672, kernel_size=(5, 5), stride=(1, 1), padding=(2, 2), groups=672, bias=False)\n",
       "            (1): BatchNorm2d(672, eps=1e-05, momentum=0.1, affine=True, track_running_stats=True)\n",
       "            (2): SiLU(inplace=True)\n",
       "          )\n",
       "          (2): SqueezeExcitation(\n",
       "            (avgpool): AdaptiveAvgPool2d(output_size=1)\n",
       "            (fc1): Conv2d(672, 28, kernel_size=(1, 1), stride=(1, 1))\n",
       "            (fc2): Conv2d(28, 672, kernel_size=(1, 1), stride=(1, 1))\n",
       "            (activation): SiLU(inplace=True)\n",
       "            (scale_activation): Sigmoid()\n",
       "          )\n",
       "          (3): Conv2dNormActivation(\n",
       "            (0): Conv2d(672, 112, kernel_size=(1, 1), stride=(1, 1), bias=False)\n",
       "            (1): BatchNorm2d(112, eps=1e-05, momentum=0.1, affine=True, track_running_stats=True)\n",
       "          )\n",
       "        )\n",
       "        (stochastic_depth): StochasticDepth(p=0.1125, mode=row)\n",
       "      )\n",
       "      (2): MBConv(\n",
       "        (block): Sequential(\n",
       "          (0): Conv2dNormActivation(\n",
       "            (0): Conv2d(112, 672, kernel_size=(1, 1), stride=(1, 1), bias=False)\n",
       "            (1): BatchNorm2d(672, eps=1e-05, momentum=0.1, affine=True, track_running_stats=True)\n",
       "            (2): SiLU(inplace=True)\n",
       "          )\n",
       "          (1): Conv2dNormActivation(\n",
       "            (0): Conv2d(672, 672, kernel_size=(5, 5), stride=(1, 1), padding=(2, 2), groups=672, bias=False)\n",
       "            (1): BatchNorm2d(672, eps=1e-05, momentum=0.1, affine=True, track_running_stats=True)\n",
       "            (2): SiLU(inplace=True)\n",
       "          )\n",
       "          (2): SqueezeExcitation(\n",
       "            (avgpool): AdaptiveAvgPool2d(output_size=1)\n",
       "            (fc1): Conv2d(672, 28, kernel_size=(1, 1), stride=(1, 1))\n",
       "            (fc2): Conv2d(28, 672, kernel_size=(1, 1), stride=(1, 1))\n",
       "            (activation): SiLU(inplace=True)\n",
       "            (scale_activation): Sigmoid()\n",
       "          )\n",
       "          (3): Conv2dNormActivation(\n",
       "            (0): Conv2d(672, 112, kernel_size=(1, 1), stride=(1, 1), bias=False)\n",
       "            (1): BatchNorm2d(112, eps=1e-05, momentum=0.1, affine=True, track_running_stats=True)\n",
       "          )\n",
       "        )\n",
       "        (stochastic_depth): StochasticDepth(p=0.125, mode=row)\n",
       "      )\n",
       "    )\n",
       "    (6): Sequential(\n",
       "      (0): MBConv(\n",
       "        (block): Sequential(\n",
       "          (0): Conv2dNormActivation(\n",
       "            (0): Conv2d(112, 672, kernel_size=(1, 1), stride=(1, 1), bias=False)\n",
       "            (1): BatchNorm2d(672, eps=1e-05, momentum=0.1, affine=True, track_running_stats=True)\n",
       "            (2): SiLU(inplace=True)\n",
       "          )\n",
       "          (1): Conv2dNormActivation(\n",
       "            (0): Conv2d(672, 672, kernel_size=(5, 5), stride=(2, 2), padding=(2, 2), groups=672, bias=False)\n",
       "            (1): BatchNorm2d(672, eps=1e-05, momentum=0.1, affine=True, track_running_stats=True)\n",
       "            (2): SiLU(inplace=True)\n",
       "          )\n",
       "          (2): SqueezeExcitation(\n",
       "            (avgpool): AdaptiveAvgPool2d(output_size=1)\n",
       "            (fc1): Conv2d(672, 28, kernel_size=(1, 1), stride=(1, 1))\n",
       "            (fc2): Conv2d(28, 672, kernel_size=(1, 1), stride=(1, 1))\n",
       "            (activation): SiLU(inplace=True)\n",
       "            (scale_activation): Sigmoid()\n",
       "          )\n",
       "          (3): Conv2dNormActivation(\n",
       "            (0): Conv2d(672, 192, kernel_size=(1, 1), stride=(1, 1), bias=False)\n",
       "            (1): BatchNorm2d(192, eps=1e-05, momentum=0.1, affine=True, track_running_stats=True)\n",
       "          )\n",
       "        )\n",
       "        (stochastic_depth): StochasticDepth(p=0.1375, mode=row)\n",
       "      )\n",
       "      (1): MBConv(\n",
       "        (block): Sequential(\n",
       "          (0): Conv2dNormActivation(\n",
       "            (0): Conv2d(192, 1152, kernel_size=(1, 1), stride=(1, 1), bias=False)\n",
       "            (1): BatchNorm2d(1152, eps=1e-05, momentum=0.1, affine=True, track_running_stats=True)\n",
       "            (2): SiLU(inplace=True)\n",
       "          )\n",
       "          (1): Conv2dNormActivation(\n",
       "            (0): Conv2d(1152, 1152, kernel_size=(5, 5), stride=(1, 1), padding=(2, 2), groups=1152, bias=False)\n",
       "            (1): BatchNorm2d(1152, eps=1e-05, momentum=0.1, affine=True, track_running_stats=True)\n",
       "            (2): SiLU(inplace=True)\n",
       "          )\n",
       "          (2): SqueezeExcitation(\n",
       "            (avgpool): AdaptiveAvgPool2d(output_size=1)\n",
       "            (fc1): Conv2d(1152, 48, kernel_size=(1, 1), stride=(1, 1))\n",
       "            (fc2): Conv2d(48, 1152, kernel_size=(1, 1), stride=(1, 1))\n",
       "            (activation): SiLU(inplace=True)\n",
       "            (scale_activation): Sigmoid()\n",
       "          )\n",
       "          (3): Conv2dNormActivation(\n",
       "            (0): Conv2d(1152, 192, kernel_size=(1, 1), stride=(1, 1), bias=False)\n",
       "            (1): BatchNorm2d(192, eps=1e-05, momentum=0.1, affine=True, track_running_stats=True)\n",
       "          )\n",
       "        )\n",
       "        (stochastic_depth): StochasticDepth(p=0.15000000000000002, mode=row)\n",
       "      )\n",
       "      (2): MBConv(\n",
       "        (block): Sequential(\n",
       "          (0): Conv2dNormActivation(\n",
       "            (0): Conv2d(192, 1152, kernel_size=(1, 1), stride=(1, 1), bias=False)\n",
       "            (1): BatchNorm2d(1152, eps=1e-05, momentum=0.1, affine=True, track_running_stats=True)\n",
       "            (2): SiLU(inplace=True)\n",
       "          )\n",
       "          (1): Conv2dNormActivation(\n",
       "            (0): Conv2d(1152, 1152, kernel_size=(5, 5), stride=(1, 1), padding=(2, 2), groups=1152, bias=False)\n",
       "            (1): BatchNorm2d(1152, eps=1e-05, momentum=0.1, affine=True, track_running_stats=True)\n",
       "            (2): SiLU(inplace=True)\n",
       "          )\n",
       "          (2): SqueezeExcitation(\n",
       "            (avgpool): AdaptiveAvgPool2d(output_size=1)\n",
       "            (fc1): Conv2d(1152, 48, kernel_size=(1, 1), stride=(1, 1))\n",
       "            (fc2): Conv2d(48, 1152, kernel_size=(1, 1), stride=(1, 1))\n",
       "            (activation): SiLU(inplace=True)\n",
       "            (scale_activation): Sigmoid()\n",
       "          )\n",
       "          (3): Conv2dNormActivation(\n",
       "            (0): Conv2d(1152, 192, kernel_size=(1, 1), stride=(1, 1), bias=False)\n",
       "            (1): BatchNorm2d(192, eps=1e-05, momentum=0.1, affine=True, track_running_stats=True)\n",
       "          )\n",
       "        )\n",
       "        (stochastic_depth): StochasticDepth(p=0.1625, mode=row)\n",
       "      )\n",
       "      (3): MBConv(\n",
       "        (block): Sequential(\n",
       "          (0): Conv2dNormActivation(\n",
       "            (0): Conv2d(192, 1152, kernel_size=(1, 1), stride=(1, 1), bias=False)\n",
       "            (1): BatchNorm2d(1152, eps=1e-05, momentum=0.1, affine=True, track_running_stats=True)\n",
       "            (2): SiLU(inplace=True)\n",
       "          )\n",
       "          (1): Conv2dNormActivation(\n",
       "            (0): Conv2d(1152, 1152, kernel_size=(5, 5), stride=(1, 1), padding=(2, 2), groups=1152, bias=False)\n",
       "            (1): BatchNorm2d(1152, eps=1e-05, momentum=0.1, affine=True, track_running_stats=True)\n",
       "            (2): SiLU(inplace=True)\n",
       "          )\n",
       "          (2): SqueezeExcitation(\n",
       "            (avgpool): AdaptiveAvgPool2d(output_size=1)\n",
       "            (fc1): Conv2d(1152, 48, kernel_size=(1, 1), stride=(1, 1))\n",
       "            (fc2): Conv2d(48, 1152, kernel_size=(1, 1), stride=(1, 1))\n",
       "            (activation): SiLU(inplace=True)\n",
       "            (scale_activation): Sigmoid()\n",
       "          )\n",
       "          (3): Conv2dNormActivation(\n",
       "            (0): Conv2d(1152, 192, kernel_size=(1, 1), stride=(1, 1), bias=False)\n",
       "            (1): BatchNorm2d(192, eps=1e-05, momentum=0.1, affine=True, track_running_stats=True)\n",
       "          )\n",
       "        )\n",
       "        (stochastic_depth): StochasticDepth(p=0.17500000000000002, mode=row)\n",
       "      )\n",
       "    )\n",
       "    (7): Sequential(\n",
       "      (0): MBConv(\n",
       "        (block): Sequential(\n",
       "          (0): Conv2dNormActivation(\n",
       "            (0): Conv2d(192, 1152, kernel_size=(1, 1), stride=(1, 1), bias=False)\n",
       "            (1): BatchNorm2d(1152, eps=1e-05, momentum=0.1, affine=True, track_running_stats=True)\n",
       "            (2): SiLU(inplace=True)\n",
       "          )\n",
       "          (1): Conv2dNormActivation(\n",
       "            (0): Conv2d(1152, 1152, kernel_size=(3, 3), stride=(1, 1), padding=(1, 1), groups=1152, bias=False)\n",
       "            (1): BatchNorm2d(1152, eps=1e-05, momentum=0.1, affine=True, track_running_stats=True)\n",
       "            (2): SiLU(inplace=True)\n",
       "          )\n",
       "          (2): SqueezeExcitation(\n",
       "            (avgpool): AdaptiveAvgPool2d(output_size=1)\n",
       "            (fc1): Conv2d(1152, 48, kernel_size=(1, 1), stride=(1, 1))\n",
       "            (fc2): Conv2d(48, 1152, kernel_size=(1, 1), stride=(1, 1))\n",
       "            (activation): SiLU(inplace=True)\n",
       "            (scale_activation): Sigmoid()\n",
       "          )\n",
       "          (3): Conv2dNormActivation(\n",
       "            (0): Conv2d(1152, 320, kernel_size=(1, 1), stride=(1, 1), bias=False)\n",
       "            (1): BatchNorm2d(320, eps=1e-05, momentum=0.1, affine=True, track_running_stats=True)\n",
       "          )\n",
       "        )\n",
       "        (stochastic_depth): StochasticDepth(p=0.1875, mode=row)\n",
       "      )\n",
       "    )\n",
       "    (8): Conv2dNormActivation(\n",
       "      (0): Conv2d(320, 1280, kernel_size=(1, 1), stride=(1, 1), bias=False)\n",
       "      (1): BatchNorm2d(1280, eps=1e-05, momentum=0.1, affine=True, track_running_stats=True)\n",
       "      (2): SiLU(inplace=True)\n",
       "    )\n",
       "  )\n",
       "  (avgpool): AdaptiveAvgPool2d(output_size=1)\n",
       "  (classifier): Sequential(\n",
       "    (0): Dropout(p=0.2, inplace=True)\n",
       "    (1): Linear(in_features=1280, out_features=1000, bias=True)\n",
       "  )\n",
       ")"
      ]
     },
     "execution_count": 59,
     "metadata": {},
     "output_type": "execute_result"
    }
   ],
   "source": [
    "model=torchvision.models.efficientnet_b0(weights=model_weights)\n",
    "model"
   ]
  },
  {
   "cell_type": "code",
   "execution_count": 62,
   "id": "3324a0fa",
   "metadata": {},
   "outputs": [
    {
     "data": {
      "text/plain": [
       "Sequential(\n",
       "  (0): Dropout(p=0.2, inplace=True)\n",
       "  (1): Linear(in_features=1280, out_features=1000, bias=True)\n",
       ")"
      ]
     },
     "execution_count": 62,
     "metadata": {},
     "output_type": "execute_result"
    }
   ],
   "source": [
    "model.classifier"
   ]
  },
  {
   "cell_type": "code",
   "execution_count": 63,
   "id": "46896ca2",
   "metadata": {},
   "outputs": [],
   "source": [
    "import torchinfo"
   ]
  },
  {
   "cell_type": "code",
   "execution_count": 86,
   "id": "81c8a779",
   "metadata": {},
   "outputs": [
    {
     "data": {
      "text/plain": [
       "================================================================================================================\n",
       "Layer (type (var_name))                                      Input Shape   Output Shape  Param #       Trainable\n",
       "================================================================================================================\n",
       "EfficientNet (EfficientNet)                                  [1, 3, 224, 224] [1, 1000]     --            True\n",
       "├─Sequential (features)                                      [1, 3, 224, 224] [1, 1280, 7, 7] --            True\n",
       "│    └─Conv2dNormActivation (0)                              [1, 3, 224, 224] [1, 32, 112, 112] --            True\n",
       "│    │    └─Conv2d (0)                                       [1, 3, 224, 224] [1, 32, 112, 112] 864           True\n",
       "│    │    └─BatchNorm2d (1)                                  [1, 32, 112, 112] [1, 32, 112, 112] 64            True\n",
       "│    │    └─SiLU (2)                                         [1, 32, 112, 112] [1, 32, 112, 112] --            --\n",
       "│    └─Sequential (1)                                        [1, 32, 112, 112] [1, 16, 112, 112] --            True\n",
       "│    │    └─MBConv (0)                                       [1, 32, 112, 112] [1, 16, 112, 112] 1,448         True\n",
       "│    └─Sequential (2)                                        [1, 16, 112, 112] [1, 24, 56, 56] --            True\n",
       "│    │    └─MBConv (0)                                       [1, 16, 112, 112] [1, 24, 56, 56] 6,004         True\n",
       "│    │    └─MBConv (1)                                       [1, 24, 56, 56] [1, 24, 56, 56] 10,710        True\n",
       "│    └─Sequential (3)                                        [1, 24, 56, 56] [1, 40, 28, 28] --            True\n",
       "│    │    └─MBConv (0)                                       [1, 24, 56, 56] [1, 40, 28, 28] 15,350        True\n",
       "│    │    └─MBConv (1)                                       [1, 40, 28, 28] [1, 40, 28, 28] 31,290        True\n",
       "│    └─Sequential (4)                                        [1, 40, 28, 28] [1, 80, 14, 14] --            True\n",
       "│    │    └─MBConv (0)                                       [1, 40, 28, 28] [1, 80, 14, 14] 37,130        True\n",
       "│    │    └─MBConv (1)                                       [1, 80, 14, 14] [1, 80, 14, 14] 102,900       True\n",
       "│    │    └─MBConv (2)                                       [1, 80, 14, 14] [1, 80, 14, 14] 102,900       True\n",
       "│    └─Sequential (5)                                        [1, 80, 14, 14] [1, 112, 14, 14] --            True\n",
       "│    │    └─MBConv (0)                                       [1, 80, 14, 14] [1, 112, 14, 14] 126,004       True\n",
       "│    │    └─MBConv (1)                                       [1, 112, 14, 14] [1, 112, 14, 14] 208,572       True\n",
       "│    │    └─MBConv (2)                                       [1, 112, 14, 14] [1, 112, 14, 14] 208,572       True\n",
       "│    └─Sequential (6)                                        [1, 112, 14, 14] [1, 192, 7, 7] --            True\n",
       "│    │    └─MBConv (0)                                       [1, 112, 14, 14] [1, 192, 7, 7] 262,492       True\n",
       "│    │    └─MBConv (1)                                       [1, 192, 7, 7] [1, 192, 7, 7] 587,952       True\n",
       "│    │    └─MBConv (2)                                       [1, 192, 7, 7] [1, 192, 7, 7] 587,952       True\n",
       "│    │    └─MBConv (3)                                       [1, 192, 7, 7] [1, 192, 7, 7] 587,952       True\n",
       "│    └─Sequential (7)                                        [1, 192, 7, 7] [1, 320, 7, 7] --            True\n",
       "│    │    └─MBConv (0)                                       [1, 192, 7, 7] [1, 320, 7, 7] 717,232       True\n",
       "│    └─Conv2dNormActivation (8)                              [1, 320, 7, 7] [1, 1280, 7, 7] --            True\n",
       "│    │    └─Conv2d (0)                                       [1, 320, 7, 7] [1, 1280, 7, 7] 409,600       True\n",
       "│    │    └─BatchNorm2d (1)                                  [1, 1280, 7, 7] [1, 1280, 7, 7] 2,560         True\n",
       "│    │    └─SiLU (2)                                         [1, 1280, 7, 7] [1, 1280, 7, 7] --            --\n",
       "├─AdaptiveAvgPool2d (avgpool)                                [1, 1280, 7, 7] [1, 1280, 1, 1] --            --\n",
       "├─Sequential (classifier)                                    [1, 1280]     [1, 1000]     --            True\n",
       "│    └─Dropout (0)                                           [1, 1280]     [1, 1280]     --            --\n",
       "│    └─Linear (1)                                            [1, 1280]     [1, 1000]     1,281,000     True\n",
       "================================================================================================================\n",
       "Total params: 5,288,548\n",
       "Trainable params: 5,288,548\n",
       "Non-trainable params: 0\n",
       "Total mult-adds (M): 385.87\n",
       "================================================================================================================\n",
       "Input size (MB): 0.60\n",
       "Forward/backward pass size (MB): 107.89\n",
       "Params size (MB): 21.15\n",
       "Estimated Total Size (MB): 129.64\n",
       "================================================================================================================"
      ]
     },
     "execution_count": 86,
     "metadata": {},
     "output_type": "execute_result"
    }
   ],
   "source": [
    "summary=torchinfo.summary(model=model,input_size=(1,3,224,224),\n",
    "                         col_names=[\"input_size\",\n",
    "                                    \"output_size\",\n",
    "                                    \"num_params\",\n",
    "                                    \"trainable\",],\n",
    "                          col_width=13,\n",
    "                          row_settings=['var_names']\n",
    "                         )\n",
    "summary"
   ]
  },
  {
   "cell_type": "code",
   "execution_count": 67,
   "id": "9f788e26",
   "metadata": {},
   "outputs": [],
   "source": [
    "# Types of transfer Learning\n",
    "#     1. Original Model -> no change at all -> good when training data is almost similar original train data\n",
    "#     2. Feature extracted model -> change only classifier layer(last layer) -> good when less train data\n",
    "#     3.Fine tuned model -> changing last few layer after feature extraction completed -> good when more train data"
   ]
  },
  {
   "cell_type": "code",
   "execution_count": 104,
   "id": "50f833ad",
   "metadata": {},
   "outputs": [],
   "source": [
    "# Freezing sequential layers by keeping req_grad=false for this layers\n",
    "for params in model.features.parameters():\n",
    "    params.requires_grad=False"
   ]
  },
  {
   "cell_type": "code",
   "execution_count": 105,
   "id": "8704f867",
   "metadata": {},
   "outputs": [
    {
     "data": {
      "text/plain": [
       "================================================================================================================\n",
       "Layer (type (var_name))                                      Input Shape   Output Shape  Param #       Trainable\n",
       "================================================================================================================\n",
       "EfficientNet (EfficientNet)                                  [1, 3, 224, 224] [1, 1000]     --            Partial\n",
       "├─Sequential (features)                                      [1, 3, 224, 224] [1, 1280, 7, 7] --            False\n",
       "│    └─Conv2dNormActivation (0)                              [1, 3, 224, 224] [1, 32, 112, 112] --            False\n",
       "│    │    └─Conv2d (0)                                       [1, 3, 224, 224] [1, 32, 112, 112] (864)         False\n",
       "│    │    └─BatchNorm2d (1)                                  [1, 32, 112, 112] [1, 32, 112, 112] (64)          False\n",
       "│    │    └─SiLU (2)                                         [1, 32, 112, 112] [1, 32, 112, 112] --            --\n",
       "│    └─Sequential (1)                                        [1, 32, 112, 112] [1, 16, 112, 112] --            False\n",
       "│    │    └─MBConv (0)                                       [1, 32, 112, 112] [1, 16, 112, 112] (1,448)       False\n",
       "│    └─Sequential (2)                                        [1, 16, 112, 112] [1, 24, 56, 56] --            False\n",
       "│    │    └─MBConv (0)                                       [1, 16, 112, 112] [1, 24, 56, 56] (6,004)       False\n",
       "│    │    └─MBConv (1)                                       [1, 24, 56, 56] [1, 24, 56, 56] (10,710)      False\n",
       "│    └─Sequential (3)                                        [1, 24, 56, 56] [1, 40, 28, 28] --            False\n",
       "│    │    └─MBConv (0)                                       [1, 24, 56, 56] [1, 40, 28, 28] (15,350)      False\n",
       "│    │    └─MBConv (1)                                       [1, 40, 28, 28] [1, 40, 28, 28] (31,290)      False\n",
       "│    └─Sequential (4)                                        [1, 40, 28, 28] [1, 80, 14, 14] --            False\n",
       "│    │    └─MBConv (0)                                       [1, 40, 28, 28] [1, 80, 14, 14] (37,130)      False\n",
       "│    │    └─MBConv (1)                                       [1, 80, 14, 14] [1, 80, 14, 14] (102,900)     False\n",
       "│    │    └─MBConv (2)                                       [1, 80, 14, 14] [1, 80, 14, 14] (102,900)     False\n",
       "│    └─Sequential (5)                                        [1, 80, 14, 14] [1, 112, 14, 14] --            False\n",
       "│    │    └─MBConv (0)                                       [1, 80, 14, 14] [1, 112, 14, 14] (126,004)     False\n",
       "│    │    └─MBConv (1)                                       [1, 112, 14, 14] [1, 112, 14, 14] (208,572)     False\n",
       "│    │    └─MBConv (2)                                       [1, 112, 14, 14] [1, 112, 14, 14] (208,572)     False\n",
       "│    └─Sequential (6)                                        [1, 112, 14, 14] [1, 192, 7, 7] --            False\n",
       "│    │    └─MBConv (0)                                       [1, 112, 14, 14] [1, 192, 7, 7] (262,492)     False\n",
       "│    │    └─MBConv (1)                                       [1, 192, 7, 7] [1, 192, 7, 7] (587,952)     False\n",
       "│    │    └─MBConv (2)                                       [1, 192, 7, 7] [1, 192, 7, 7] (587,952)     False\n",
       "│    │    └─MBConv (3)                                       [1, 192, 7, 7] [1, 192, 7, 7] (587,952)     False\n",
       "│    └─Sequential (7)                                        [1, 192, 7, 7] [1, 320, 7, 7] --            False\n",
       "│    │    └─MBConv (0)                                       [1, 192, 7, 7] [1, 320, 7, 7] (717,232)     False\n",
       "│    └─Conv2dNormActivation (8)                              [1, 320, 7, 7] [1, 1280, 7, 7] --            False\n",
       "│    │    └─Conv2d (0)                                       [1, 320, 7, 7] [1, 1280, 7, 7] (409,600)     False\n",
       "│    │    └─BatchNorm2d (1)                                  [1, 1280, 7, 7] [1, 1280, 7, 7] (2,560)       False\n",
       "│    │    └─SiLU (2)                                         [1, 1280, 7, 7] [1, 1280, 7, 7] --            --\n",
       "├─AdaptiveAvgPool2d (avgpool)                                [1, 1280, 7, 7] [1, 1280, 1, 1] --            --\n",
       "├─Sequential (classifier)                                    [1, 1280]     [1, 1000]     --            True\n",
       "│    └─Dropout (0)                                           [1, 1280]     [1, 1280]     --            --\n",
       "│    └─Linear (1)                                            [1, 1280]     [1, 1000]     1,281,000     True\n",
       "================================================================================================================\n",
       "Total params: 5,288,548\n",
       "Trainable params: 1,281,000\n",
       "Non-trainable params: 4,007,548\n",
       "Total mult-adds (M): 385.87\n",
       "================================================================================================================\n",
       "Input size (MB): 0.60\n",
       "Forward/backward pass size (MB): 107.89\n",
       "Params size (MB): 21.15\n",
       "Estimated Total Size (MB): 129.64\n",
       "================================================================================================================"
      ]
     },
     "execution_count": 105,
     "metadata": {},
     "output_type": "execute_result"
    }
   ],
   "source": [
    "summary2=torchinfo.summary(model=model,input_size=(1,3,224,224),\n",
    "                         col_names=[\"input_size\",\n",
    "                                    \"output_size\",\n",
    "                                    \"num_params\",\n",
    "                                    \"trainable\",],\n",
    "                          col_width=13,\n",
    "                          row_settings=['var_names']\n",
    "                         )\n",
    "summary2"
   ]
  },
  {
   "cell_type": "code",
   "execution_count": 111,
   "id": "5393f497",
   "metadata": {},
   "outputs": [],
   "source": [
    "from torch import nn"
   ]
  },
  {
   "cell_type": "code",
   "execution_count": 112,
   "id": "0526bae4",
   "metadata": {},
   "outputs": [],
   "source": [
    "model.classifier=nn.Sequential(\n",
    "    nn.Dropout(p=0.2,inplace=True),\n",
    "    nn.Linear(in_features=1280,out_features=3)\n",
    ")"
   ]
  },
  {
   "cell_type": "code",
   "execution_count": 113,
   "id": "7db7e9e5",
   "metadata": {},
   "outputs": [
    {
     "data": {
      "text/plain": [
       "================================================================================================================\n",
       "Layer (type (var_name))                                      Input Shape   Output Shape  Param #       Trainable\n",
       "================================================================================================================\n",
       "EfficientNet (EfficientNet)                                  [1, 3, 224, 224] [1, 3]        --            Partial\n",
       "├─Sequential (features)                                      [1, 3, 224, 224] [1, 1280, 7, 7] --            False\n",
       "│    └─Conv2dNormActivation (0)                              [1, 3, 224, 224] [1, 32, 112, 112] --            False\n",
       "│    │    └─Conv2d (0)                                       [1, 3, 224, 224] [1, 32, 112, 112] (864)         False\n",
       "│    │    └─BatchNorm2d (1)                                  [1, 32, 112, 112] [1, 32, 112, 112] (64)          False\n",
       "│    │    └─SiLU (2)                                         [1, 32, 112, 112] [1, 32, 112, 112] --            --\n",
       "│    └─Sequential (1)                                        [1, 32, 112, 112] [1, 16, 112, 112] --            False\n",
       "│    │    └─MBConv (0)                                       [1, 32, 112, 112] [1, 16, 112, 112] (1,448)       False\n",
       "│    └─Sequential (2)                                        [1, 16, 112, 112] [1, 24, 56, 56] --            False\n",
       "│    │    └─MBConv (0)                                       [1, 16, 112, 112] [1, 24, 56, 56] (6,004)       False\n",
       "│    │    └─MBConv (1)                                       [1, 24, 56, 56] [1, 24, 56, 56] (10,710)      False\n",
       "│    └─Sequential (3)                                        [1, 24, 56, 56] [1, 40, 28, 28] --            False\n",
       "│    │    └─MBConv (0)                                       [1, 24, 56, 56] [1, 40, 28, 28] (15,350)      False\n",
       "│    │    └─MBConv (1)                                       [1, 40, 28, 28] [1, 40, 28, 28] (31,290)      False\n",
       "│    └─Sequential (4)                                        [1, 40, 28, 28] [1, 80, 14, 14] --            False\n",
       "│    │    └─MBConv (0)                                       [1, 40, 28, 28] [1, 80, 14, 14] (37,130)      False\n",
       "│    │    └─MBConv (1)                                       [1, 80, 14, 14] [1, 80, 14, 14] (102,900)     False\n",
       "│    │    └─MBConv (2)                                       [1, 80, 14, 14] [1, 80, 14, 14] (102,900)     False\n",
       "│    └─Sequential (5)                                        [1, 80, 14, 14] [1, 112, 14, 14] --            False\n",
       "│    │    └─MBConv (0)                                       [1, 80, 14, 14] [1, 112, 14, 14] (126,004)     False\n",
       "│    │    └─MBConv (1)                                       [1, 112, 14, 14] [1, 112, 14, 14] (208,572)     False\n",
       "│    │    └─MBConv (2)                                       [1, 112, 14, 14] [1, 112, 14, 14] (208,572)     False\n",
       "│    └─Sequential (6)                                        [1, 112, 14, 14] [1, 192, 7, 7] --            False\n",
       "│    │    └─MBConv (0)                                       [1, 112, 14, 14] [1, 192, 7, 7] (262,492)     False\n",
       "│    │    └─MBConv (1)                                       [1, 192, 7, 7] [1, 192, 7, 7] (587,952)     False\n",
       "│    │    └─MBConv (2)                                       [1, 192, 7, 7] [1, 192, 7, 7] (587,952)     False\n",
       "│    │    └─MBConv (3)                                       [1, 192, 7, 7] [1, 192, 7, 7] (587,952)     False\n",
       "│    └─Sequential (7)                                        [1, 192, 7, 7] [1, 320, 7, 7] --            False\n",
       "│    │    └─MBConv (0)                                       [1, 192, 7, 7] [1, 320, 7, 7] (717,232)     False\n",
       "│    └─Conv2dNormActivation (8)                              [1, 320, 7, 7] [1, 1280, 7, 7] --            False\n",
       "│    │    └─Conv2d (0)                                       [1, 320, 7, 7] [1, 1280, 7, 7] (409,600)     False\n",
       "│    │    └─BatchNorm2d (1)                                  [1, 1280, 7, 7] [1, 1280, 7, 7] (2,560)       False\n",
       "│    │    └─SiLU (2)                                         [1, 1280, 7, 7] [1, 1280, 7, 7] --            --\n",
       "├─AdaptiveAvgPool2d (avgpool)                                [1, 1280, 7, 7] [1, 1280, 1, 1] --            --\n",
       "├─Sequential (classifier)                                    [1, 1280]     [1, 3]        --            True\n",
       "│    └─Dropout (0)                                           [1, 1280]     [1, 1280]     --            --\n",
       "│    └─Linear (1)                                            [1, 1280]     [1, 3]        3,843         True\n",
       "================================================================================================================\n",
       "Total params: 4,011,391\n",
       "Trainable params: 3,843\n",
       "Non-trainable params: 4,007,548\n",
       "Total mult-adds (M): 384.59\n",
       "================================================================================================================\n",
       "Input size (MB): 0.60\n",
       "Forward/backward pass size (MB): 107.88\n",
       "Params size (MB): 16.05\n",
       "Estimated Total Size (MB): 124.53\n",
       "================================================================================================================"
      ]
     },
     "execution_count": 113,
     "metadata": {},
     "output_type": "execute_result"
    }
   ],
   "source": [
    "summary3=torchinfo.summary(model=model,input_size=(1,3,224,224),\n",
    "                         col_names=[\"input_size\",\n",
    "                                    \"output_size\",\n",
    "                                    \"num_params\",\n",
    "                                    \"trainable\",],\n",
    "                          col_width=13,\n",
    "                          row_settings=['var_names']\n",
    "                         )\n",
    "summary3"
   ]
  },
  {
   "cell_type": "code",
   "execution_count": 114,
   "id": "f0b72777",
   "metadata": {},
   "outputs": [],
   "source": [
    "loss_fn=nn.CrossEntropyLoss()\n",
    "optimizer=torch.optim.Adam(params=model.parameters(),lr=0.001)"
   ]
  },
  {
   "cell_type": "code",
   "execution_count": 118,
   "id": "7f438fdd",
   "metadata": {},
   "outputs": [],
   "source": [
    "#Training the model\n",
    "from going_modular.going_modular import engine\n",
    "from timeit import default_timer as timer"
   ]
  },
  {
   "cell_type": "code",
   "execution_count": 119,
   "id": "a134d49e",
   "metadata": {},
   "outputs": [
    {
     "data": {
      "application/json": {
       "ascii": false,
       "bar_format": null,
       "colour": null,
       "elapsed": 0.02166604995727539,
       "initial": 0,
       "n": 0,
       "ncols": null,
       "nrows": 22,
       "postfix": null,
       "prefix": "",
       "rate": null,
       "total": 5,
       "unit": "it",
       "unit_divisor": 1000,
       "unit_scale": false
      },
      "application/vnd.jupyter.widget-view+json": {
       "model_id": "9ca89ddc0a704641861de6e127fbadd3",
       "version_major": 2,
       "version_minor": 0
      },
      "text/plain": [
       "  0%|          | 0/5 [00:00<?, ?it/s]"
      ]
     },
     "metadata": {},
     "output_type": "display_data"
    },
    {
     "name": "stdout",
     "output_type": "stream",
     "text": [
      "Epoch: 1 | train_loss: 1.0573 | train_acc: 0.4258 | test_loss: 0.8608 | test_acc: 0.7737\n",
      "Epoch: 2 | train_loss: 0.8585 | train_acc: 0.7734 | test_loss: 0.7128 | test_acc: 0.8854\n",
      "Epoch: 3 | train_loss: 0.8476 | train_acc: 0.6680 | test_loss: 0.6350 | test_acc: 0.8646\n",
      "Epoch: 4 | train_loss: 0.6742 | train_acc: 0.8867 | test_loss: 0.6458 | test_acc: 0.8352\n",
      "Epoch: 5 | train_loss: 0.5969 | train_acc: 0.9102 | test_loss: 0.6843 | test_acc: 0.7841\n",
      "Total time:381.91801533299986\n"
     ]
    }
   ],
   "source": [
    "\n",
    "start_timer=timer()\n",
    "results=engine.train(model=model,train_dataloader=train_dataloader,test_dataloader=test_dataloader,\n",
    "                    optimizer=optimizer,loss_fn=loss_fn,epochs=5,device='cpu')\n",
    "print(f'Total time:{-start_timer+timer()}')"
   ]
  },
  {
   "cell_type": "code",
   "execution_count": null,
   "id": "d252aed3",
   "metadata": {},
   "outputs": [],
   "source": []
  }
 ],
 "metadata": {
  "kernelspec": {
   "display_name": "Python 3.9 (tensorflow)",
   "language": "python",
   "name": "tensorflow"
  },
  "language_info": {
   "codemirror_mode": {
    "name": "ipython",
    "version": 3
   },
   "file_extension": ".py",
   "mimetype": "text/x-python",
   "name": "python",
   "nbconvert_exporter": "python",
   "pygments_lexer": "ipython3",
   "version": "3.9.13"
  },
  "toc": {
   "base_numbering": 1,
   "nav_menu": {},
   "number_sections": true,
   "sideBar": true,
   "skip_h1_title": false,
   "title_cell": "Table of Contents",
   "title_sidebar": "Contents",
   "toc_cell": false,
   "toc_position": {},
   "toc_section_display": true,
   "toc_window_display": false
  },
  "varInspector": {
   "cols": {
    "lenName": 16,
    "lenType": 16,
    "lenVar": 40
   },
   "kernels_config": {
    "python": {
     "delete_cmd_postfix": "",
     "delete_cmd_prefix": "del ",
     "library": "var_list.py",
     "varRefreshCmd": "print(var_dic_list())"
    },
    "r": {
     "delete_cmd_postfix": ") ",
     "delete_cmd_prefix": "rm(",
     "library": "var_list.r",
     "varRefreshCmd": "cat(var_dic_list()) "
    }
   },
   "types_to_exclude": [
    "module",
    "function",
    "builtin_function_or_method",
    "instance",
    "_Feature"
   ],
   "window_display": false
  }
 },
 "nbformat": 4,
 "nbformat_minor": 5
}
