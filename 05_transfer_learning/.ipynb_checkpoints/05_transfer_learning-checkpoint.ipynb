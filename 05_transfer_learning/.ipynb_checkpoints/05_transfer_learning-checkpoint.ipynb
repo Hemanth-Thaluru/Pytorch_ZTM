{
 "cells": [
  {
   "cell_type": "code",
   "execution_count": 23,
   "id": "1ed9ebbc",
   "metadata": {},
   "outputs": [],
   "source": [
    "#| default_exp 05_transfer_learning"
   ]
  },
  {
   "cell_type": "code",
   "execution_count": 4,
   "id": "5bc53621",
   "metadata": {},
   "outputs": [
    {
     "name": "stdout",
     "output_type": "stream",
     "text": [
      "2.0.1\n",
      "0.15.2\n"
     ]
    }
   ],
   "source": [
    "import torch,torchvision\n",
    "print(torch.__version__)\n",
    "print(torchvision.__version__)"
   ]
  },
  {
   "cell_type": "code",
   "execution_count": 5,
   "id": "face19c6",
   "metadata": {},
   "outputs": [
    {
     "name": "stdout",
     "output_type": "stream",
     "text": [
      "[INFO] Couldn't find going_modular scripts... downloading them from GitHub.\n",
      "Cloning into 'pytorch-deep-learning'...\n",
      "remote: Enumerating objects: 3842, done.\u001b[K\n",
      "remote: Counting objects: 100% (485/485), done.\u001b[K\n",
      "remote: Compressing objects: 100% (272/272), done.\u001b[K\n",
      "remote: Total 3842 (delta 252), reused 404 (delta 206), pack-reused 3357\u001b[K\n",
      "Receiving objects: 100% (3842/3842), 650.36 MiB | 30.17 MiB/s, done.\n",
      "Resolving deltas: 100% (2208/2208), done.\n",
      "Updating files: 100% (248/248), done.\n"
     ]
    }
   ],
   "source": [
    "try:\n",
    "    from going_modular.going_modular import data_setup, engine\n",
    "except:\n",
    "    # Get the going_modular scripts\n",
    "    print(\"[INFO] Couldn't find going_modular scripts... downloading them from GitHub.\")\n",
    "    !git clone https://github.com/mrdbourke/pytorch-deep-learning\n",
    "    !mv pytorch-deep-learning/going_modular .\n",
    "    !rm -rf pytorch-deep-learning\n",
    "    from going_modular.going_modular import data_setup, engine"
   ]
  },
  {
   "cell_type": "code",
   "execution_count": 22,
   "id": "92b23c9f",
   "metadata": {},
   "outputs": [],
   "source": [
    "#| export\n",
    "import zipfile,requests,os\n",
    "from pathlib import Path\n",
    "\n",
    "def download_blob_git(url:str,file_name:str):\n",
    "    \"\"\"Downloads the blob or zip file from github rawlink. Only if file doesn't exist, if not simply exists.\n",
    "\n",
    "    Args:\n",
    "    url: Raw link need to be given, should have raw word in the link,rightclick raw option on github and copy link address.\n",
    "    file_name: A name to be stored for that files in data folder should be same as github name\n",
    "\n",
    "    Returns:\n",
    "    None, Unzips the file and removes the zipped file. \n",
    "    \"\"\"\n",
    "    fpath=file_name\n",
    "    image_path=Path(f'data/{fpath}')\n",
    "    print(image_path)\n",
    "    if image_path.is_file():\n",
    "        print('Already exists skipping download')\n",
    "    else:\n",
    "        print('File doesnot exist downloading it')\n",
    "        image_path.mkdir(parents=True,exist_ok=True)\n",
    "\n",
    "        with open(f'data/{fpath}.zip','wb') as f:\n",
    "            request=requests.get(url)\n",
    "            print('Downloading the file')\n",
    "            f.write(request.content)\n",
    "        with zipfile.ZipFile(f'data/{fpath}.zip','r') as z:\n",
    "            print('Unzipping the files')\n",
    "            z.extractall(image_path)\n",
    "        os.remove(f'data/{fpath}.zip')"
   ]
  },
  {
   "cell_type": "code",
   "execution_count": 21,
   "id": "2d75b118",
   "metadata": {},
   "outputs": [
    {
     "name": "stdout",
     "output_type": "stream",
     "text": [
      "data/pizza_steak_sushi\n",
      "File doesnot exist downloading it\n",
      "Downloading the file\n",
      "Unzipping the files\n"
     ]
    }
   ],
   "source": [
    "download_blob_git('https://github.com/mrdbourke/pytorch-deep-learning/raw/main/data/pizza_steak_sushi.zip',\"pizza_steak_sushi\")"
   ]
  },
  {
   "cell_type": "code",
   "execution_count": 19,
   "id": "7468e576",
   "metadata": {},
   "outputs": [
    {
     "data": {
      "text/plain": [
       "True"
      ]
     },
     "execution_count": 19,
     "metadata": {},
     "output_type": "execute_result"
    }
   ],
   "source": [
    "c=Path('data/pizza_steak_sushi')\n",
    "c.is_dir()"
   ]
  },
  {
   "cell_type": "code",
   "execution_count": 24,
   "id": "66f009fd",
   "metadata": {},
   "outputs": [
    {
     "name": "stdout",
     "output_type": "stream",
     "text": [
      "Export successful\n"
     ]
    },
    {
     "name": "stderr",
     "output_type": "stream",
     "text": [
      "/Volumes/TAPPS/DS_APPS/anaconda3/envs/tensorflow/lib/python3.9/site-packages/nbdev/export.py:54: UserWarning: Notebook '05_transfer_learning.ipynb' uses `#|export` without `#|default_exp` cell.\n",
      "Note nbdev2 no longer supports nbdev1 syntax. Run `nbdev_migrate` to upgrade.\n",
      "See https://nbdev.fast.ai/getting_started.html for more information.\n",
      "  warn(f\"Notebook '{nbname}' uses `#|export` without `#|default_exp` cell.\\n\"\n"
     ]
    }
   ],
   "source": [
    "import nbdev\n",
    "nbdev.export.nb_export('05_transfer_learning.ipynb','./')\n",
    "print('Export successful')"
   ]
  },
  {
   "cell_type": "code",
   "execution_count": null,
   "id": "695b380a",
   "metadata": {},
   "outputs": [],
   "source": []
  }
 ],
 "metadata": {
  "kernelspec": {
   "display_name": "Python 3.9 (tensorflow)",
   "language": "python",
   "name": "tensorflow"
  },
  "language_info": {
   "codemirror_mode": {
    "name": "ipython",
    "version": 3
   },
   "file_extension": ".py",
   "mimetype": "text/x-python",
   "name": "python",
   "nbconvert_exporter": "python",
   "pygments_lexer": "ipython3",
   "version": "3.9.13"
  },
  "toc": {
   "base_numbering": 1,
   "nav_menu": {},
   "number_sections": true,
   "sideBar": true,
   "skip_h1_title": false,
   "title_cell": "Table of Contents",
   "title_sidebar": "Contents",
   "toc_cell": false,
   "toc_position": {},
   "toc_section_display": true,
   "toc_window_display": false
  },
  "varInspector": {
   "cols": {
    "lenName": 16,
    "lenType": 16,
    "lenVar": 40
   },
   "kernels_config": {
    "python": {
     "delete_cmd_postfix": "",
     "delete_cmd_prefix": "del ",
     "library": "var_list.py",
     "varRefreshCmd": "print(var_dic_list())"
    },
    "r": {
     "delete_cmd_postfix": ") ",
     "delete_cmd_prefix": "rm(",
     "library": "var_list.r",
     "varRefreshCmd": "cat(var_dic_list()) "
    }
   },
   "types_to_exclude": [
    "module",
    "function",
    "builtin_function_or_method",
    "instance",
    "_Feature"
   ],
   "window_display": false
  }
 },
 "nbformat": 4,
 "nbformat_minor": 5
}
